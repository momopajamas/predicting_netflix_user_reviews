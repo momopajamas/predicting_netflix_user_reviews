{
 "cells": [
  {
   "cell_type": "markdown",
   "id": "a75d0393-f88b-4d28-b209-7ee3abe489e0",
   "metadata": {},
   "source": [
    "# Introduction"
   ]
  },
  {
   "cell_type": "markdown",
   "id": "70e79290-bcf9-4396-8b7f-c65c777eb621",
   "metadata": {},
   "source": [
    "# Business Understanding"
   ]
  },
  {
   "cell_type": "markdown",
   "id": "6be216f8-9c69-45cf-afc5-2c4b954279df",
   "metadata": {},
   "source": [
    "In a time where Netflix faces serious competition from a variety of streaming services that have come up, able to leverage their affiliation with networks to claim a number of successful TV shows to boost their subscribers and libraries, Netflix has one competitive edge: the ease of usability and technical superiority. If Netflix wants to remain a serious competitor in the streaming business, it cannot falter in this crucial aspect, and must continually adjust its platforms and respond to the faults which can drive away consumers and subscribers. Additionally, we want to understand which aspects of our platform resonate positively with consumers, so that we have a better idea of how to go about marketing our product in relevant ways, as well as gaining deeper knowledge about which aspects of our product can be developed further to deepen our consumers' appreciation.\n",
    "\n",
    "We are tasked with addressing this very issue: locating trends among negative user reviews so that we can adjust our product and continue to provide a top-tier streaming service that stands above the rest in technical terms, as well as trends among positive reviews so we can better understand which aspects of our product are best emphasized in our future marketing campaigns. We will particularly pay close attention to reviews produced over the past year or so, to ensure that our interventions are timely and relevant to the issues faced by our clientele in the currrent moment or very recent past. Focusing on recent reviews also provides clarity of action, as there is little point in us locating trends among negative reviews from a few years back that had already been addressed in the time since, for example. \n",
    "\n",
    "Put another way, we seek to gain a better understanding of the following:\n",
    "1. **Retention**, and why some users are unhappy with Netflix and may cancel their subscriptions.\n",
    "2. **Marketing Insights**, and identify what it is that people currently appreciate about Netflix so it can inform our promotions.\n",
    "\n",
    "What this requires of us is:\n",
    "1. To build a **binary classification model** that can deploy Natural Language Processing (NLP), or more specifically, **Sentiment Analysis** on the user reviews, and use that insight to predict whether the review is positive or negative. This can be done through traditional supervised learning models, such as Logistic Regression, Random Forest Classifiers, SVM, etc.\n",
    "2. Apply **clustering methods** to both groups of positive and negative reviews to identify trends and themes that will inform the actions we take.\n",
    "\n",
    "In this way, we will be better equipped to provide solid business recommendations regarding subscriber retention as well as more effective marketing campaigns."
   ]
  },
  {
   "cell_type": "markdown",
   "id": "31dd4b08-2791-4df7-97eb-3687414bee63",
   "metadata": {},
   "source": [
    "# Data Understanding"
   ]
  },
  {
   "cell_type": "markdown",
   "id": "03d1edfd-74ce-4cd4-901d-6013526843f9",
   "metadata": {},
   "source": [
    "The [dataset we will be working with](https://www.kaggle.com/datasets/ashishkumarak/netflix-reviews-playstore-daily-updated?resource=download) was pulled from Kaggle and contains more than 129,000 reviews dating back to 2018, which is 7 years as of the time of  writing. This dataset is updated daily, and the data contained within it is up-to-date as of 2 March, 2025.\n",
    "\n",
    "Of the 8 columns contained in this dataset, the following are of particular or potential interest to us, pending further investigation:\n",
    "1. `content`, which contains the text of the user review. We will use this column for our NLP and Sentiment Analysis.\n",
    "2. `# score`, which contains a discrete (categorical) numeric rating on a scale of 1-5. This will serve as our Target column whose Labels we will predict based on the the text of the user reviews.\n",
    "3. `# thumbsUpCount`, which tells us how many 'thumbs up' each user review received from other reviews, potentially indicating the relative significance of different reviews since a higher count of thumbs up would indicate the review resonated with other users.\n",
    "4. `at`, telling us the date the user review was created. We will be looking to filter our data so that we can focus on reviews produced over the past year 1-2 years, or since 2023.\n",
    "\n",
    "### Features \n",
    "We will use the text contained within the `content` column to produce features for our classifier by vectorizing the text using **Term Frequency-Inverse Document Frequency (TF-IDF)**, which is a useful strategy for determing the relative significance of terms used in the user reviews by weighing the frequency of their appearances within a review against their relative rarity across all reviews in consideration. \n",
    "\n",
    "### Targets\n",
    "The `# score` column will be used as our Target column by combining the low ratings (1 and 2) as a Negative class and combining the positive reviews (4 and 5) as a Positive class, and turning these classes into binaries: 0 for Negative, 1 for Positive.\n",
    "\n",
    "We will be disregarding the ratings of 3 as we want a clear understanding of what makes a review strictly negative vs. strictly positive, and a middle of the road review of 3, as insightful as its content may be, would hinder our ability to understand the division of these sentiments.\n",
    "\n",
    "### Class Distribution\n",
    "Fortunately for us, the distribution of our Negative and Positive classes are relatively balanced, with a slight skew towards Negative.\n",
    "- Negative: 61%\n",
    "- Positive: 39%"
   ]
  },
  {
   "cell_type": "markdown",
   "id": "e6493aa4-ce66-46c3-95fe-30a177ea5780",
   "metadata": {},
   "source": [
    "## Data Preparation"
   ]
  },
  {
   "cell_type": "markdown",
   "id": "5cd428dd-4897-46e5-8642-aaf476ccb8af",
   "metadata": {},
   "source": [
    "### Cleaning the Dataset\n",
    "\n",
    "Before we can begin modeling, we need to clean and prepare our dataset. This will require the following:\n",
    "1. Removing null values.\n",
    "2. Removing unnecessary columns.\n",
    "3. Narrowing the dataset so it contains user reviews from 2023 onwards.\n",
    "4. Consolidating the values within the Target column (`# score`) so they are binary."
   ]
  },
  {
   "cell_type": "code",
   "execution_count": 38,
   "id": "ca844a17-8226-457b-987c-9d41e8b01423",
   "metadata": {},
   "outputs": [],
   "source": [
    "# importing relevant libraries\n",
    "\n",
    "import re\n",
    "import pandas as pd\n",
    "import numpy as np\n",
    "import seaborn as sns\n",
    "import matplotlib.pyplot as plt\n",
    "%matplotlib inline\n",
    "\n",
    "from sklearn.model_selection import train_test_split, RandomizedSearchCV, GridSearchCV\n",
    "from sklearn.pipeline import Pipeline, FeatureUnion\n",
    "from sklearn.feature_extraction.text import TfidfVectorizer\n",
    "from sklearn.base import BaseEstimator, TransformerMixin\n",
    "\n",
    "import nltk\n",
    "from nltk.corpus import stopwords\n",
    "from nltk.stem import WordNetLemmatizer\n",
    "nltk.download('punkt', quiet=True)\n",
    "nltk.download('wordnet', quiet=True)\n",
    "nltk.download('stopwords', quiet=True)\n",
    "\n",
    "import warnings\n",
    "warnings.filterwarnings('ignore', category=DeprecationWarning)\n",
    "warnings.filterwarnings('ignore', category=FutureWarning)\n",
    "warnings.simplefilter(\"ignore\", UserWarning)"
   ]
  },
  {
   "cell_type": "code",
   "execution_count": 20,
   "id": "d4d177fc-9824-40f1-8372-34778bab8b01",
   "metadata": {},
   "outputs": [
    {
     "data": {
      "text/html": [
       "<div>\n",
       "<style scoped>\n",
       "    .dataframe tbody tr th:only-of-type {\n",
       "        vertical-align: middle;\n",
       "    }\n",
       "\n",
       "    .dataframe tbody tr th {\n",
       "        vertical-align: top;\n",
       "    }\n",
       "\n",
       "    .dataframe thead th {\n",
       "        text-align: right;\n",
       "    }\n",
       "</style>\n",
       "<table border=\"1\" class=\"dataframe\">\n",
       "  <thead>\n",
       "    <tr style=\"text-align: right;\">\n",
       "      <th></th>\n",
       "      <th>reviewId</th>\n",
       "      <th>userName</th>\n",
       "      <th>content</th>\n",
       "      <th>score</th>\n",
       "      <th>thumbsUpCount</th>\n",
       "      <th>reviewCreatedVersion</th>\n",
       "      <th>at</th>\n",
       "      <th>appVersion</th>\n",
       "    </tr>\n",
       "  </thead>\n",
       "  <tbody>\n",
       "    <tr>\n",
       "      <th>0</th>\n",
       "      <td>2487372e-d1ce-49b9-83a7-ed405a2911c1</td>\n",
       "      <td>QueenyTech</td>\n",
       "      <td>Trash, it made me change my password because I...</td>\n",
       "      <td>1</td>\n",
       "      <td>0</td>\n",
       "      <td>5.1.2 build 17106</td>\n",
       "      <td>2025-03-01 14:50:57</td>\n",
       "      <td>5.1.2 build 17106</td>\n",
       "    </tr>\n",
       "    <tr>\n",
       "      <th>1</th>\n",
       "      <td>7f278d2c-00fe-4295-9f5b-43ccdb370e79</td>\n",
       "      <td>Paresh Dalbehera (PD)</td>\n",
       "      <td>I love Netflix only ❤️</td>\n",
       "      <td>5</td>\n",
       "      <td>0</td>\n",
       "      <td>9.4.1 build 4 62196</td>\n",
       "      <td>2025-03-01 14:46:52</td>\n",
       "      <td>9.4.1 build 4 62196</td>\n",
       "    </tr>\n",
       "    <tr>\n",
       "      <th>2</th>\n",
       "      <td>42664618-3fe5-4128-af69-5012e69f4a54</td>\n",
       "      <td>Reta Ali</td>\n",
       "      <td>it's the best but pls bring back the society s...</td>\n",
       "      <td>5</td>\n",
       "      <td>0</td>\n",
       "      <td>9.3.0 build 4 62124</td>\n",
       "      <td>2025-03-01 14:28:59</td>\n",
       "      <td>9.3.0 build 4 62124</td>\n",
       "    </tr>\n",
       "    <tr>\n",
       "      <th>3</th>\n",
       "      <td>93b3ec35-7931-4441-9920-35547c6f1584</td>\n",
       "      <td>Jogre</td>\n",
       "      <td>When you fold your Galaxy Fold 6, it forces Ne...</td>\n",
       "      <td>2</td>\n",
       "      <td>0</td>\n",
       "      <td>9.4.1 build 4 62196</td>\n",
       "      <td>2025-03-01 14:21:10</td>\n",
       "      <td>9.4.1 build 4 62196</td>\n",
       "    </tr>\n",
       "    <tr>\n",
       "      <th>4</th>\n",
       "      <td>96cbd996-c5d5-4e23-b011-6799254ac039</td>\n",
       "      <td>Auralia Rorke</td>\n",
       "      <td>Good</td>\n",
       "      <td>4</td>\n",
       "      <td>0</td>\n",
       "      <td>9.4.1 build 4 62196</td>\n",
       "      <td>2025-03-01 14:12:16</td>\n",
       "      <td>9.4.1 build 4 62196</td>\n",
       "    </tr>\n",
       "  </tbody>\n",
       "</table>\n",
       "</div>"
      ],
      "text/plain": [
       "                               reviewId               userName  \\\n",
       "0  2487372e-d1ce-49b9-83a7-ed405a2911c1             QueenyTech   \n",
       "1  7f278d2c-00fe-4295-9f5b-43ccdb370e79  Paresh Dalbehera (PD)   \n",
       "2  42664618-3fe5-4128-af69-5012e69f4a54               Reta Ali   \n",
       "3  93b3ec35-7931-4441-9920-35547c6f1584                  Jogre   \n",
       "4  96cbd996-c5d5-4e23-b011-6799254ac039          Auralia Rorke   \n",
       "\n",
       "                                             content  score  thumbsUpCount  \\\n",
       "0  Trash, it made me change my password because I...      1              0   \n",
       "1                             I love Netflix only ❤️      5              0   \n",
       "2  it's the best but pls bring back the society s...      5              0   \n",
       "3  When you fold your Galaxy Fold 6, it forces Ne...      2              0   \n",
       "4                                               Good      4              0   \n",
       "\n",
       "  reviewCreatedVersion                   at           appVersion  \n",
       "0    5.1.2 build 17106  2025-03-01 14:50:57    5.1.2 build 17106  \n",
       "1  9.4.1 build 4 62196  2025-03-01 14:46:52  9.4.1 build 4 62196  \n",
       "2  9.3.0 build 4 62124  2025-03-01 14:28:59  9.3.0 build 4 62124  \n",
       "3  9.4.1 build 4 62196  2025-03-01 14:21:10  9.4.1 build 4 62196  \n",
       "4  9.4.1 build 4 62196  2025-03-01 14:12:16  9.4.1 build 4 62196  "
      ]
     },
     "execution_count": 20,
     "metadata": {},
     "output_type": "execute_result"
    }
   ],
   "source": [
    "# loading in the dataset\n",
    "\n",
    "df = pd.read_csv('data/netflix_reviews.csv')\n",
    "\n",
    "df.head()"
   ]
  },
  {
   "cell_type": "code",
   "execution_count": 21,
   "id": "b298e70d-4e83-41d2-9e7f-f76925392f1a",
   "metadata": {},
   "outputs": [
    {
     "data": {
      "text/html": [
       "<div>\n",
       "<style scoped>\n",
       "    .dataframe tbody tr th:only-of-type {\n",
       "        vertical-align: middle;\n",
       "    }\n",
       "\n",
       "    .dataframe tbody tr th {\n",
       "        vertical-align: top;\n",
       "    }\n",
       "\n",
       "    .dataframe thead th {\n",
       "        text-align: right;\n",
       "    }\n",
       "</style>\n",
       "<table border=\"1\" class=\"dataframe\">\n",
       "  <thead>\n",
       "    <tr style=\"text-align: right;\">\n",
       "      <th></th>\n",
       "      <th>content</th>\n",
       "      <th>score</th>\n",
       "      <th>thumbsUpCount</th>\n",
       "      <th>at</th>\n",
       "    </tr>\n",
       "  </thead>\n",
       "  <tbody>\n",
       "    <tr>\n",
       "      <th>0</th>\n",
       "      <td>Trash, it made me change my password because I...</td>\n",
       "      <td>1</td>\n",
       "      <td>0</td>\n",
       "      <td>2025-03-01 14:50:57</td>\n",
       "    </tr>\n",
       "    <tr>\n",
       "      <th>1</th>\n",
       "      <td>I love Netflix only ❤️</td>\n",
       "      <td>5</td>\n",
       "      <td>0</td>\n",
       "      <td>2025-03-01 14:46:52</td>\n",
       "    </tr>\n",
       "    <tr>\n",
       "      <th>2</th>\n",
       "      <td>it's the best but pls bring back the society s...</td>\n",
       "      <td>5</td>\n",
       "      <td>0</td>\n",
       "      <td>2025-03-01 14:28:59</td>\n",
       "    </tr>\n",
       "    <tr>\n",
       "      <th>3</th>\n",
       "      <td>When you fold your Galaxy Fold 6, it forces Ne...</td>\n",
       "      <td>2</td>\n",
       "      <td>0</td>\n",
       "      <td>2025-03-01 14:21:10</td>\n",
       "    </tr>\n",
       "    <tr>\n",
       "      <th>4</th>\n",
       "      <td>Good</td>\n",
       "      <td>4</td>\n",
       "      <td>0</td>\n",
       "      <td>2025-03-01 14:12:16</td>\n",
       "    </tr>\n",
       "  </tbody>\n",
       "</table>\n",
       "</div>"
      ],
      "text/plain": [
       "                                             content  score  thumbsUpCount  \\\n",
       "0  Trash, it made me change my password because I...      1              0   \n",
       "1                             I love Netflix only ❤️      5              0   \n",
       "2  it's the best but pls bring back the society s...      5              0   \n",
       "3  When you fold your Galaxy Fold 6, it forces Ne...      2              0   \n",
       "4                                               Good      4              0   \n",
       "\n",
       "                    at  \n",
       "0  2025-03-01 14:50:57  \n",
       "1  2025-03-01 14:46:52  \n",
       "2  2025-03-01 14:28:59  \n",
       "3  2025-03-01 14:21:10  \n",
       "4  2025-03-01 14:12:16  "
      ]
     },
     "execution_count": 21,
     "metadata": {},
     "output_type": "execute_result"
    }
   ],
   "source": [
    "# removing unnecessary columns\n",
    "\n",
    "df_clean = df.drop(\n",
    "    ['reviewId', 'userName', 'reviewCreatedVersion', 'appVersion'], \n",
    "    axis=1\n",
    ")\n",
    "\n",
    "df_clean.head()"
   ]
  },
  {
   "cell_type": "code",
   "execution_count": 22,
   "id": "5ede2013-69fb-4ceb-8ea0-3241b35cee93",
   "metadata": {},
   "outputs": [
    {
     "name": "stdout",
     "output_type": "stream",
     "text": [
      "<class 'pandas.core.frame.DataFrame'>\n",
      "RangeIndex: 130426 entries, 0 to 130425\n",
      "Data columns (total 4 columns):\n",
      " #   Column         Non-Null Count   Dtype \n",
      "---  ------         --------------   ----- \n",
      " 0   content        130421 non-null  object\n",
      " 1   score          130426 non-null  int64 \n",
      " 2   thumbsUpCount  130426 non-null  int64 \n",
      " 3   at             130426 non-null  object\n",
      "dtypes: int64(2), object(2)\n",
      "memory usage: 4.0+ MB\n"
     ]
    }
   ],
   "source": [
    "df_clean.info()"
   ]
  },
  {
   "cell_type": "code",
   "execution_count": 23,
   "id": "f4bda9ad-552d-4890-930b-5d3c893effe5",
   "metadata": {},
   "outputs": [
    {
     "data": {
      "text/plain": [
       "content          5\n",
       "score            0\n",
       "thumbsUpCount    0\n",
       "at               0\n",
       "dtype: int64"
      ]
     },
     "execution_count": 23,
     "metadata": {},
     "output_type": "execute_result"
    }
   ],
   "source": [
    "# checking for null values\n",
    "\n",
    "df_clean.isna().sum()"
   ]
  },
  {
   "cell_type": "code",
   "execution_count": 24,
   "id": "d116210f-26df-441a-99b0-23013faef987",
   "metadata": {},
   "outputs": [
    {
     "data": {
      "text/html": [
       "<div>\n",
       "<style scoped>\n",
       "    .dataframe tbody tr th:only-of-type {\n",
       "        vertical-align: middle;\n",
       "    }\n",
       "\n",
       "    .dataframe tbody tr th {\n",
       "        vertical-align: top;\n",
       "    }\n",
       "\n",
       "    .dataframe thead th {\n",
       "        text-align: right;\n",
       "    }\n",
       "</style>\n",
       "<table border=\"1\" class=\"dataframe\">\n",
       "  <thead>\n",
       "    <tr style=\"text-align: right;\">\n",
       "      <th></th>\n",
       "      <th>content</th>\n",
       "      <th>score</th>\n",
       "      <th>thumbsUpCount</th>\n",
       "      <th>at</th>\n",
       "    </tr>\n",
       "  </thead>\n",
       "  <tbody>\n",
       "    <tr>\n",
       "      <th>6592</th>\n",
       "      <td>NaN</td>\n",
       "      <td>3</td>\n",
       "      <td>0</td>\n",
       "      <td>2025-01-03 11:50:11</td>\n",
       "    </tr>\n",
       "    <tr>\n",
       "      <th>10224</th>\n",
       "      <td>NaN</td>\n",
       "      <td>5</td>\n",
       "      <td>0</td>\n",
       "      <td>2024-12-02 02:54:46</td>\n",
       "    </tr>\n",
       "    <tr>\n",
       "      <th>11661</th>\n",
       "      <td>NaN</td>\n",
       "      <td>5</td>\n",
       "      <td>0</td>\n",
       "      <td>2024-11-10 03:49:25</td>\n",
       "    </tr>\n",
       "    <tr>\n",
       "      <th>20742</th>\n",
       "      <td>NaN</td>\n",
       "      <td>5</td>\n",
       "      <td>0</td>\n",
       "      <td>2024-05-21 16:56:29</td>\n",
       "    </tr>\n",
       "    <tr>\n",
       "      <th>21093</th>\n",
       "      <td>NaN</td>\n",
       "      <td>2</td>\n",
       "      <td>0</td>\n",
       "      <td>2024-05-19 13:52:42</td>\n",
       "    </tr>\n",
       "  </tbody>\n",
       "</table>\n",
       "</div>"
      ],
      "text/plain": [
       "      content  score  thumbsUpCount                   at\n",
       "6592      NaN      3              0  2025-01-03 11:50:11\n",
       "10224     NaN      5              0  2024-12-02 02:54:46\n",
       "11661     NaN      5              0  2024-11-10 03:49:25\n",
       "20742     NaN      5              0  2024-05-21 16:56:29\n",
       "21093     NaN      2              0  2024-05-19 13:52:42"
      ]
     },
     "execution_count": 24,
     "metadata": {},
     "output_type": "execute_result"
    }
   ],
   "source": [
    "df_clean[df_clean['content'].isna()]"
   ]
  },
  {
   "cell_type": "code",
   "execution_count": 25,
   "id": "f62bf9e4-844f-43c9-bd9b-fc48559df510",
   "metadata": {},
   "outputs": [
    {
     "data": {
      "text/plain": [
       "content          0\n",
       "score            0\n",
       "thumbsUpCount    0\n",
       "at               0\n",
       "dtype: int64"
      ]
     },
     "execution_count": 25,
     "metadata": {},
     "output_type": "execute_result"
    }
   ],
   "source": [
    "# dropping rows with null values\n",
    "\n",
    "df_clean = df_clean.dropna()\n",
    "\n",
    "df_clean.isna().sum()"
   ]
  },
  {
   "cell_type": "code",
   "execution_count": 26,
   "id": "72e22499-7024-4943-8cbc-42aa5d1385f2",
   "metadata": {},
   "outputs": [
    {
     "data": {
      "text/html": [
       "<div>\n",
       "<style scoped>\n",
       "    .dataframe tbody tr th:only-of-type {\n",
       "        vertical-align: middle;\n",
       "    }\n",
       "\n",
       "    .dataframe tbody tr th {\n",
       "        vertical-align: top;\n",
       "    }\n",
       "\n",
       "    .dataframe thead th {\n",
       "        text-align: right;\n",
       "    }\n",
       "</style>\n",
       "<table border=\"1\" class=\"dataframe\">\n",
       "  <thead>\n",
       "    <tr style=\"text-align: right;\">\n",
       "      <th></th>\n",
       "      <th>content</th>\n",
       "      <th>score</th>\n",
       "      <th>thumbsUpCount</th>\n",
       "      <th>at</th>\n",
       "    </tr>\n",
       "  </thead>\n",
       "  <tbody>\n",
       "    <tr>\n",
       "      <th>0</th>\n",
       "      <td>Trash, it made me change my password because I...</td>\n",
       "      <td>1</td>\n",
       "      <td>0</td>\n",
       "      <td>2025-03-01</td>\n",
       "    </tr>\n",
       "    <tr>\n",
       "      <th>1</th>\n",
       "      <td>I love Netflix only ❤️</td>\n",
       "      <td>5</td>\n",
       "      <td>0</td>\n",
       "      <td>2025-03-01</td>\n",
       "    </tr>\n",
       "    <tr>\n",
       "      <th>2</th>\n",
       "      <td>it's the best but pls bring back the society s...</td>\n",
       "      <td>5</td>\n",
       "      <td>0</td>\n",
       "      <td>2025-03-01</td>\n",
       "    </tr>\n",
       "    <tr>\n",
       "      <th>3</th>\n",
       "      <td>When you fold your Galaxy Fold 6, it forces Ne...</td>\n",
       "      <td>2</td>\n",
       "      <td>0</td>\n",
       "      <td>2025-03-01</td>\n",
       "    </tr>\n",
       "    <tr>\n",
       "      <th>4</th>\n",
       "      <td>Good</td>\n",
       "      <td>4</td>\n",
       "      <td>0</td>\n",
       "      <td>2025-03-01</td>\n",
       "    </tr>\n",
       "  </tbody>\n",
       "</table>\n",
       "</div>"
      ],
      "text/plain": [
       "                                             content  score  thumbsUpCount  \\\n",
       "0  Trash, it made me change my password because I...      1              0   \n",
       "1                             I love Netflix only ❤️      5              0   \n",
       "2  it's the best but pls bring back the society s...      5              0   \n",
       "3  When you fold your Galaxy Fold 6, it forces Ne...      2              0   \n",
       "4                                               Good      4              0   \n",
       "\n",
       "           at  \n",
       "0  2025-03-01  \n",
       "1  2025-03-01  \n",
       "2  2025-03-01  \n",
       "3  2025-03-01  \n",
       "4  2025-03-01  "
      ]
     },
     "execution_count": 26,
     "metadata": {},
     "output_type": "execute_result"
    }
   ],
   "source": [
    "# converting the date column `at` to date-time format and removing the time stamps\n",
    "\n",
    "df_clean['at'] = pd.to_datetime(df_clean['at']).dt.date\n",
    "\n",
    "df_clean.head()"
   ]
  },
  {
   "cell_type": "code",
   "execution_count": 27,
   "id": "22e0d21a-35ad-45cc-b3f2-585b88ccd146",
   "metadata": {},
   "outputs": [],
   "source": [
    "# filtering out entries prior to 2023\n",
    "\n",
    "df_clean = df_clean[df_clean['at'] >= pd.to_datetime('2023-01-01').date()]"
   ]
  },
  {
   "cell_type": "code",
   "execution_count": 28,
   "id": "a3496739-f0b4-4cba-af34-b1af73e71863",
   "metadata": {},
   "outputs": [
    {
     "data": {
      "text/plain": [
       "at\n",
       "2024-05-17    353\n",
       "2024-05-09    291\n",
       "2024-05-12    217\n",
       "2024-05-27    202\n",
       "2024-05-25    194\n",
       "             ... \n",
       "2024-08-24      1\n",
       "2024-09-16      1\n",
       "2024-09-15      1\n",
       "2024-08-31      1\n",
       "2024-09-04      1\n",
       "Name: count, Length: 725, dtype: int64"
      ]
     },
     "execution_count": 28,
     "metadata": {},
     "output_type": "execute_result"
    }
   ],
   "source": [
    "df_clean['at'].value_counts()"
   ]
  },
  {
   "cell_type": "code",
   "execution_count": 29,
   "id": "6d017d5c-658e-484b-aee7-5830eb2c597c",
   "metadata": {},
   "outputs": [
    {
     "data": {
      "image/png": "[encoded data removed]",
      "text/plain": [
       "<Figure size 640x480 with 1 Axes>"
      ]
     },
     "metadata": {},
     "output_type": "display_data"
    }
   ],
   "source": [
    "# looking at distribution of reviews over time\n",
    "\n",
    "df_clean['at'].hist(bins=30) \n",
    "plt.xlabel('Date')\n",
    "plt.ylabel('Count')\n",
    "plt.title('Distribution of Reviews Over Time')\n",
    "plt.xticks(rotation=45)\n",
    "plt.show()"
   ]
  },
  {
   "cell_type": "code",
   "execution_count": 30,
   "id": "a836bbbc-cb56-450c-a86d-3f2876ea321a",
   "metadata": {},
   "outputs": [
    {
     "name": "stdout",
     "output_type": "stream",
     "text": [
      "<class 'pandas.core.frame.DataFrame'>\n",
      "Index: 47309 entries, 0 to 130419\n",
      "Data columns (total 4 columns):\n",
      " #   Column         Non-Null Count  Dtype \n",
      "---  ------         --------------  ----- \n",
      " 0   content        47309 non-null  object\n",
      " 1   score          47309 non-null  int64 \n",
      " 2   thumbsUpCount  47309 non-null  int64 \n",
      " 3   at             47309 non-null  object\n",
      "dtypes: int64(2), object(2)\n",
      "memory usage: 1.8+ MB\n"
     ]
    }
   ],
   "source": [
    "df_clean.info()"
   ]
  },
  {
   "cell_type": "code",
   "execution_count": 31,
   "id": "32b7de61-93e9-4bb3-a4ed-11b073eb9a70",
   "metadata": {},
   "outputs": [
    {
     "data": {
      "text/plain": [
       "score\n",
       "1    22982\n",
       "5    13740\n",
       "2     3833\n",
       "3     3391\n",
       "4     3363\n",
       "Name: count, dtype: int64"
      ]
     },
     "execution_count": 31,
     "metadata": {},
     "output_type": "execute_result"
    }
   ],
   "source": [
    "# looking at distribution of rating score column\n",
    "df_clean['score'].value_counts()"
   ]
  },
  {
   "cell_type": "code",
   "execution_count": 32,
   "id": "d58992ae-5636-42d1-9c5e-da63cf08f007",
   "metadata": {},
   "outputs": [
    {
     "data": {
      "text/plain": [
       "0         0\n",
       "1         1\n",
       "2         1\n",
       "3         0\n",
       "4         1\n",
       "         ..\n",
       "130404    1\n",
       "130410    0\n",
       "130415    0\n",
       "130417    0\n",
       "130419    1\n",
       "Name: score, Length: 43918, dtype: int64"
      ]
     },
     "execution_count": 32,
     "metadata": {},
     "output_type": "execute_result"
    }
   ],
   "source": [
    "# dropping the neutral rating scores of 3\n",
    "\n",
    "df_clean = df_clean[df_clean['score'] != 3]\n",
    "\n",
    "# converting the rest of the rating scores to binary for negative (0) and positive (1)\n",
    "\n",
    "df_clean['score'] = df_clean['score'].map({\n",
    "    1: 0, 2:0, # negative scores\n",
    "    4:1, 5:1   # positive scores\n",
    "})\n",
    "\n",
    "df_clean['score']"
   ]
  },
  {
   "cell_type": "code",
   "execution_count": 33,
   "id": "48cb2567-8e3b-4844-b680-99453ac64675",
   "metadata": {},
   "outputs": [
    {
     "name": "stdout",
     "output_type": "stream",
     "text": [
      "score\n",
      "0    61.05697\n",
      "1    38.94303\n",
      "Name: proportion, dtype: float64\n"
     ]
    }
   ],
   "source": [
    "# checking the distribution of the `score` column\n",
    "\n",
    "print(df_clean.score.value_counts(normalize=True) * 100)"
   ]
  },
  {
   "cell_type": "markdown",
   "id": "9929f8a6-47ac-40fa-890f-9d71508d78d5",
   "metadata": {},
   "source": [
    "### Feature Engineering\n",
    "#### Factoring in Thumbs Up Count\n",
    "\n",
    "The data contained in the `thumbsUpCount` column can help us determine relative significance of different user reviews: reviews with high thumbs up counts are probably more significant than reviews with 0 thumbs ups.\n",
    "\n",
    "Since the distribution of this column's values are all over the place, we will need to scale this column to ensure proper weight is given to reviews with more thumbs up without allowing outliers to dominate our models' performances. \n",
    "\n",
    "Since our column is heavily skewed to the right (disproportionate number of reviews with 0 thumbs up, with a few reviews having a high number of thumbs up) we will use **log transformation** to normalize this column in a way that does not overstate extreme outliers. Specifically, we will use **log1p()** to handle the large number of 0 counts.\n",
    "\n",
    "This will allow us to use a scaled thumbs up count as an additional Feature in our modeling."
   ]
  },
  {
   "cell_type": "code",
   "execution_count": 34,
   "id": "1181fba5-c825-431d-a619-92a20448198f",
   "metadata": {},
   "outputs": [
    {
     "name": "stdout",
     "output_type": "stream",
     "text": [
      "thumbsUpCount\n",
      "0      33541\n",
      "1       4714\n",
      "2       1651\n",
      "3        886\n",
      "4        494\n",
      "       ...  \n",
      "204        1\n",
      "444        1\n",
      "845        1\n",
      "637        1\n",
      "171        1\n",
      "Name: count, Length: 447, dtype: int64\n",
      "\n",
      "count    43918.000000\n",
      "mean         7.170591\n",
      "std         87.109358\n",
      "min          0.000000\n",
      "25%          0.000000\n",
      "50%          0.000000\n",
      "75%          0.000000\n",
      "max       4502.000000\n",
      "Name: thumbsUpCount, dtype: float64\n"
     ]
    }
   ],
   "source": [
    "# looking at distribution of ThumbsUp column\n",
    "\n",
    "print(df_clean[\"thumbsUpCount\"].value_counts())\n",
    "print()\n",
    "print(df_clean[\"thumbsUpCount\"].describe())\n"
   ]
  },
  {
   "cell_type": "code",
   "execution_count": 35,
   "id": "56d41680-98b1-47d0-b4ce-bf546681baa1",
   "metadata": {},
   "outputs": [
    {
     "data": {
      "text/plain": [
       "thumbs_up_log\n",
       "0.000000    33541\n",
       "0.693147     4714\n",
       "1.098612     1651\n",
       "1.386294      886\n",
       "1.609438      494\n",
       "            ...  \n",
       "5.323010        1\n",
       "6.098074        1\n",
       "6.740519        1\n",
       "6.458338        1\n",
       "5.147494        1\n",
       "Name: count, Length: 447, dtype: int64"
      ]
     },
     "execution_count": 35,
     "metadata": {},
     "output_type": "execute_result"
    }
   ],
   "source": [
    "# creating new column with log-scaled thumbs up counts\n",
    "\n",
    "df_clean['thumbs_up_log'] = np.log1p(df_clean['thumbsUpCount']) # using log1p() to handle the 0s appropriately\n",
    "\n",
    "df_clean['thumbs_up_log'].value_counts()"
   ]
  },
  {
   "cell_type": "markdown",
   "id": "e556a917-775b-4bea-9089-5b975fd3b639",
   "metadata": {},
   "source": [
    "### Train-Test Split\n",
    "\n",
    "Now that we are done cleaning our dataset, we need to assign our X and y variable. Then, we will split our data into separate sets for training our models, validating our model paramater tuning, and performing tests to evaluate our models' capabilities."
   ]
  },
  {
   "cell_type": "code",
   "execution_count": 36,
   "id": "bbf93869-f654-4b82-981e-0ffdd7a8f75e",
   "metadata": {},
   "outputs": [],
   "source": [
    "# assigning X and y variables\n",
    "\n",
    "X = df_clean[['content', 'thumbs_up_log']]\n",
    "\n",
    "y = df_clean['score']\n",
    "\n",
    "# splitting test and training datasets\n",
    "\n",
    "X_train, X_test, y_train, y_test = train_test_split(\n",
    "    X, y,\n",
    "    test_size = 0.2,\n",
    "    random_state = 42\n",
    ")\n",
    "\n",
    "# splitting training and validation datasets\n",
    "\n",
    "X_train, X_val, y_train, y_val = train_test_split(\n",
    "    X_train, y_train,\n",
    "    test_size = 0.2,\n",
    "    random_state = 42\n",
    ")"
   ]
  },
  {
   "cell_type": "markdown",
   "id": "457b868a-a73f-4be3-93f0-c2edded3c9df",
   "metadata": {},
   "source": [
    "### Creating Custom Transformers\n",
    "\n",
    "With our training, validation and test sets ready, we will create custom transformers to preprocess our text data for it to be useable in our models. \n",
    "\n",
    "This custom transformer, `TextPreprocessor`, will lowercase the text, remove special characters, tokenize the text, remove stop words, and lemmatize the text.  "
   ]
  },
  {
   "cell_type": "code",
   "execution_count": null,
   "id": "7f7d50c0-c915-4f0a-9243-b9b7fea6765b",
   "metadata": {},
   "outputs": [],
   "source": []
  },
  {
   "cell_type": "code",
   "execution_count": 39,
   "id": "e868b4a0-5834-4a91-8003-52890c5dd2ff",
   "metadata": {},
   "outputs": [],
   "source": [
    "# defining the custom transformer\n",
    "\n",
    "class TextPreprocessor(BaseEstimator, TransformerMixin):\n",
    "    \"\"\"\n",
    "    Transformer to perform the following:\n",
    "    1) lowercase the text\n",
    "    2) remove special characters\n",
    "    3) tokenize the text\n",
    "    4) remove stop words\n",
    "    5) lemmatize the text\n",
    "    \"\"\"\n",
    "    def __init__(self):\n",
    "        pass\n",
    "\n",
    "    def fit(self, X, y=None):\n",
    "        \"\"\"initializing lemmatizer and stopwords\"\"\"\n",
    "        self._lemmatizer = WordNetLemmatizer()\n",
    "        self._stop_words = set(stopwords.words('english'))\n",
    "        self.n_features_in_ = 1 # required for scikit-learn model compatibility\n",
    "        return self\n",
    "\n",
    "    def transform(self, X):\n",
    "        \"\"\"preprocess the text data\"\"\"\n",
    "        preprocessed_text = []\n",
    "\n",
    "        for text in X['content']:\n",
    "            if not isinstance(text, str):  # ensure input is a string\n",
    "                text = str(text)\n",
    "            text = text.lower()\n",
    "            text = re.sub(r'[^a-z\\s]', '', text)\n",
    "            tokens = nltk.word_tokenize(text)\n",
    "            filtered_tokens = [word for word in tokens if word not in self._stop_words]\n",
    "            lemmatized_text = ' '.join([self._lemmatizer.lemmatize(word) for word \\\n",
    "                                       in filtered_tokens])\n",
    "            preprocessed_text.append(lemmatized_text)\n",
    "        \n",
    "        X['content'] = preprocessed_text\n",
    "        \n",
    "        return X"
   ]
  },
  {
   "cell_type": "markdown",
   "id": "2fa46778-3374-42e8-9e5e-dfe6885df9f2",
   "metadata": {},
   "source": [
    "# Modeling"
   ]
  },
  {
   "cell_type": "markdown",
   "id": "74d7af29-da2b-4f59-a4e3-fd4866e71045",
   "metadata": {},
   "source": []
  },
  {
   "cell_type": "markdown",
   "id": "3a40697a-ab77-4546-af52-220b34105bdf",
   "metadata": {},
   "source": [
    "# Conclusion"
   ]
  },
  {
   "cell_type": "markdown",
   "id": "a35ce270-f956-47b8-a061-468a74c8ac5c",
   "metadata": {},
   "source": [
    "## Evaluation"
   ]
  },
  {
   "cell_type": "markdown",
   "id": "124da7ca-fb8e-488f-8b63-6c05987cae62",
   "metadata": {},
   "source": [
    "## Limitations\n",
    "\n",
    "Did not factor in neutral reviews"
   ]
  },
  {
   "cell_type": "markdown",
   "id": "bc49ca31-c33c-41cb-8caf-3763dd5fc69d",
   "metadata": {},
   "source": [
    "## Recommendations"
   ]
  },
  {
   "cell_type": "markdown",
   "id": "29c7986d-ac15-4bd3-909a-a1d09efe5587",
   "metadata": {},
   "source": [
    "## Next Steps"
   ]
  },
  {
   "cell_type": "markdown",
   "id": "ae08d3e3-caab-4615-80db-43ba658fadda",
   "metadata": {},
   "source": []
  }
 ],
 "metadata": {
  "kernelspec": {
   "display_name": "Python 3 (ipykernel)",
   "language": "python",
   "name": "python3"
  },
  "language_info": {
   "codemirror_mode": {
    "name": "ipython",
    "version": 3
   },
   "file_extension": ".py",
   "mimetype": "text/x-python",
   "name": "python",
   "nbconvert_exporter": "python",
   "pygments_lexer": "ipython3",
   "version": "3.9.18"
  }
 },
 "nbformat": 4,
 "nbformat_minor": 5
}
