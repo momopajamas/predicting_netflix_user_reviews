{
 "cells": [
  {
   "cell_type": "markdown",
   "id": "a75d0393-f88b-4d28-b209-7ee3abe489e0",
   "metadata": {},
   "source": [
    "# Introduction"
   ]
  },
  {
   "cell_type": "markdown",
   "id": "70e79290-bcf9-4396-8b7f-c65c777eb621",
   "metadata": {},
   "source": [
    "# Business Understanding"
   ]
  },
  {
   "cell_type": "markdown",
   "id": "6be216f8-9c69-45cf-afc5-2c4b954279df",
   "metadata": {},
   "source": []
  },
  {
   "cell_type": "markdown",
   "id": "31dd4b08-2791-4df7-97eb-3687414bee63",
   "metadata": {},
   "source": [
    "# Data Understanding"
   ]
  },
  {
   "cell_type": "markdown",
   "id": "03d1edfd-74ce-4cd4-901d-6013526843f9",
   "metadata": {},
   "source": []
  },
  {
   "cell_type": "markdown",
   "id": "e6493aa4-ce66-46c3-95fe-30a177ea5780",
   "metadata": {},
   "source": [
    "## Data Preparation"
   ]
  },
  {
   "cell_type": "markdown",
   "id": "5cd428dd-4897-46e5-8642-aaf476ccb8af",
   "metadata": {},
   "source": []
  },
  {
   "cell_type": "markdown",
   "id": "2fa46778-3374-42e8-9e5e-dfe6885df9f2",
   "metadata": {},
   "source": [
    "# Modeling"
   ]
  },
  {
   "cell_type": "markdown",
   "id": "74d7af29-da2b-4f59-a4e3-fd4866e71045",
   "metadata": {},
   "source": []
  },
  {
   "cell_type": "markdown",
   "id": "3a40697a-ab77-4546-af52-220b34105bdf",
   "metadata": {},
   "source": [
    "# Conclusion"
   ]
  },
  {
   "cell_type": "markdown",
   "id": "a35ce270-f956-47b8-a061-468a74c8ac5c",
   "metadata": {},
   "source": [
    "## Evaluation"
   ]
  },
  {
   "cell_type": "markdown",
   "id": "124da7ca-fb8e-488f-8b63-6c05987cae62",
   "metadata": {},
   "source": [
    "## Limitations"
   ]
  },
  {
   "cell_type": "markdown",
   "id": "bc49ca31-c33c-41cb-8caf-3763dd5fc69d",
   "metadata": {},
   "source": [
    "## Recommendations"
   ]
  },
  {
   "cell_type": "markdown",
   "id": "29c7986d-ac15-4bd3-909a-a1d09efe5587",
   "metadata": {},
   "source": [
    "## Next Steps"
   ]
  },
  {
   "cell_type": "markdown",
   "id": "ae08d3e3-caab-4615-80db-43ba658fadda",
   "metadata": {},
   "source": []
  }
 ],
 "metadata": {
  "kernelspec": {
   "display_name": "Python 3 (ipykernel)",
   "language": "python",
   "name": "python3"
  },
  "language_info": {
   "codemirror_mode": {
    "name": "ipython",
    "version": 3
   },
   "file_extension": ".py",
   "mimetype": "text/x-python",
   "name": "python",
   "nbconvert_exporter": "python",
   "pygments_lexer": "ipython3",
   "version": "3.9.18"
  }
 },
 "nbformat": 4,
 "nbformat_minor": 5
}
